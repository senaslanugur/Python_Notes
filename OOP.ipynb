{
 "cells": [
  {
   "cell_type": "markdown",
   "id": "99524c7c",
   "metadata": {},
   "source": [
    "# Python - OOP\n",
    "\n",
    "Programlama yöntemlerinin başındaki çözüm de \"object\"oluşturmaktdır. Bu çözüm yoluna Object-Oriented Programming (OOP) olarak bilinir.  "
   ]
  },
  {
   "cell_type": "markdown",
   "id": "3f29191b",
   "metadata": {},
   "source": [
    "Bir \"Object\"'in iki karakteresitiği vardır;\n",
    "* attributes -- Nitelikler\n",
    "* behavior -- Davranışlar\n",
    "\n",
    "Örneğin, bir papağan için;\n",
    "\n",
    "* attributes --> isim, yaş ve rengi vardır,\n",
    "* behavior --> şarkı söyleyebilir, dans edebilir vb.\n",
    "\n",
    "OOP, DRY(Don't repeat yourself) olarak bilinir."
   ]
  },
  {
   "cell_type": "markdown",
   "id": "2bcbceba",
   "metadata": {},
   "source": [
    "## Class"
   ]
  },
  {
   "cell_type": "markdown",
   "id": "98e7270d",
   "metadata": {},
   "source": [
    "\"Class\" bir nesne için planı gösterir.\n",
    "Sınıfı etiketli bir papağan taslağı olarak düşünebiliriz. Adı, rengi, boyutu vb. ile ilgili tüm detayları içerir. Bu açıklamalara dayanarak papağan hakkında çalışma yapabiliriz. Burada papağan bir nesnedir."
   ]
  },
  {
   "cell_type": "code",
   "execution_count": 1,
   "id": "5b4a960d",
   "metadata": {},
   "outputs": [],
   "source": [
    "class Parrot:\n",
    "    pass"
   ]
  },
  {
   "cell_type": "markdown",
   "id": "80dd4762",
   "metadata": {},
   "source": [
    "Burada, boş bir sınıf Parrot tanımlamak için class anahtar sözcüğünü kullanıyoruz. Sınıftan örnekler oluşturuyoruz. Örnek, belirli bir sınıftan oluşturulan belirli bir nesnedir."
   ]
  },
  {
   "cell_type": "markdown",
   "id": "a89ba8ab",
   "metadata": {},
   "source": [
    "## Object\n",
    "Bir nesne (örnek), bir sınıfın somutlaştırılmasıdır. Sınıf tanımlandığında, yalnızca nesnenin tanımı tanımlanır. Bu nedenle, bellek veya depolama tahsis edilmez."
   ]
  },
  {
   "cell_type": "code",
   "execution_count": 2,
   "id": "dfc611e3",
   "metadata": {},
   "outputs": [],
   "source": [
    "obj = Parrot()"
   ]
  },
  {
   "cell_type": "markdown",
   "id": "0098036e",
   "metadata": {},
   "source": [
    "Burada, obj Parrot Class'ı için bir objedir.\n",
    "Diyelim ki papağanlarla ilgili detaylarımız var. Şimdi papağanların sınıf ve nesnelerinin nasıl oluşturulacağını göstereceğiz."
   ]
  },
  {
   "cell_type": "code",
   "execution_count": 4,
   "id": "0b4d3e62",
   "metadata": {},
   "outputs": [
    {
     "name": "stdout",
     "output_type": "stream",
     "text": [
      "Blue is a bird\n",
      "Woo is also a bird\n",
      "Blue is 10 years old\n",
      "Woo is 15 years old\n"
     ]
    }
   ],
   "source": [
    "class Parrot:\n",
    "    \n",
    "    #class attribute\n",
    "    species  = \"bird\"\n",
    "    \n",
    "    # instance attribute\n",
    "    def __init__(self, name, age):\n",
    "        self.name = name\n",
    "        self.age = age\n",
    "        \n",
    "#instantiate the Parrot class \n",
    "blue = Parrot(\"Blue\", 10)\n",
    "woo = Parrot(\"Woo\", 15)\n",
    "\n",
    "#access the class attributes\n",
    "print(\"Blue is a {}\". format(blue.__class__.species))\n",
    "print(\"Woo is also a {}\". format(woo.__class__.species))\n",
    "\n",
    "#accsess the intance attributes\n",
    "print(\"{} is {} years old\".format(blue.name, blue.age))\n",
    "print(\"{} is {} years old\".format(woo.name,woo.age))"
   ]
  },
  {
   "cell_type": "markdown",
   "id": "75402fda",
   "metadata": {},
   "source": [
    "Yukarıdaki programda Parrot adında bir sınıf oluşturduk. Daha sonra öznitelikleri tanımlıyoruz. Nitelikler, bir nesnenin bir özelliğidir.\n",
    "\n",
    "Bu nitelikler, sınıfın __init__ yöntemi içinde tanımlanır. Nesne oluşturulur oluşturulmaz ilk çalıştırılan başlatıcı yöntemidir.\n",
    "\n",
    "Ardından Parrot sınıfının örneklerini oluşturuyoruz. Burada blu ve woo, yeni nesnelerimize referanslardır (değerdir).\n",
    "\n",
    "__class__.species kullanarak class niteliğine erişebiliriz. Sınıf nitelikleri, bir sınıfın tüm örnekleri için aynıdır. Benzer şekilde, blu.name ve blu.age kullanarak instance niteliklerine erişiriz. Ancak, bir sınıfın her örneği için örnek nitelikleri farklıdır."
   ]
  },
  {
   "cell_type": "markdown",
   "id": "e5d135a2",
   "metadata": {},
   "source": [
    "## Methods\n",
    "Yöntemler, bir sınıfın gövdesi içinde tanımlanan işlevlerdir. Bir nesnenin davranışlarını tanımlamak için kullanılırlar."
   ]
  },
  {
   "cell_type": "code",
   "execution_count": 5,
   "id": "ed649405",
   "metadata": {},
   "outputs": [
    {
     "name": "stdout",
     "output_type": "stream",
     "text": [
      "Blue sings 'Happy'\n",
      "Blue is now dancing\n"
     ]
    }
   ],
   "source": [
    "class Parrot:\n",
    "    \n",
    "    #instance attributes\n",
    "    def __init__(self,name,age):\n",
    "        self.name = name\n",
    "        self.age = age\n",
    "    \n",
    "    #instance method\n",
    "    def sing(self, song):\n",
    "        return \"{} sings {}\".format(self.name, song)\n",
    "    \n",
    "    def dance(self):\n",
    "        return \"{} is now dancing\".format(self.name)\n",
    "\n",
    "# instantiate the object\n",
    "blue = Parrot(\"Blue\",10)\n",
    "\n",
    "# call our instance methods\n",
    "print(blue.sing(\"'Happy'\"))\n",
    "print(blue.dance())"
   ]
  },
  {
   "cell_type": "markdown",
   "id": "1a977a24",
   "metadata": {},
   "source": [
    "\n",
    "Yukarıdaki programda, sing() ve dance() olmak üzere iki yöntem tanımlıyoruz. Bunlar, bir örnek nesnesi, yani blu üzerinde çağrıldıkları için örnek yöntemler olarak adlandırılır."
   ]
  },
  {
   "cell_type": "markdown",
   "id": "a808a76a",
   "metadata": {},
   "source": [
    "## Inheritance\n",
    "Kalıtım, mevcut bir sınıfın ayrıntılarını değiştirmeden kullanmak için yeni bir sınıf oluşturmanın bir yoludur. Yeni oluşturulan sınıf, türetilmiş bir sınıftır (veya alt sınıf). Benzer şekilde, mevcut sınıf bir temel sınıftır (veya ana sınıftır)."
   ]
  },
  {
   "cell_type": "code",
   "execution_count": 6,
   "id": "b11f5d28",
   "metadata": {},
   "outputs": [
    {
     "name": "stdout",
     "output_type": "stream",
     "text": [
      "Bird is ready\n",
      "Penguin is ready\n",
      "Penguin\n",
      "Swim faster\n",
      "Run Faster\n"
     ]
    }
   ],
   "source": [
    "# parent class\n",
    "class Bird:\n",
    "    def __init__(self):\n",
    "        print(\"Bird is ready\")\n",
    "    def whoisThis(self):\n",
    "        print(\"Bird\")\n",
    "    def swim(self):\n",
    "        print(\"Swim faster\")\n",
    "\n",
    "#child class\n",
    "class Penguin(Bird):\n",
    "    def __init__(self):\n",
    "        # call super() function\n",
    "        super().__init__()\n",
    "        print(\"Penguin is ready\")\n",
    "        \n",
    "    def whoisThis(self):\n",
    "        print(\"Penguin\")\n",
    "    def run(self):\n",
    "        print(\"Run Faster\")\n",
    "\n",
    "peggy = Penguin()\n",
    "peggy.whoisThis()\n",
    "peggy.swim()\n",
    "peggy.run()\n",
    "        "
   ]
  },
  {
   "cell_type": "markdown",
   "id": "5ffec842",
   "metadata": {},
   "source": [
    "Yukarıdaki programda Bird (ebeveyn sınıfı) ve Penguin (alt sınıf) olmak üzere iki sınıf oluşturduk. Alt sınıf, ana sınıfın işlevlerini devralır. Bunu swim() yönteminden görebiliriz.\n",
    "\n",
    "Yine, alt sınıf, üst sınıfın davranışını değiştirdi. Bunu whoisThis() metodundan görebiliriz. Ayrıca, yeni bir run() yöntemi oluşturarak üst sınıfın işlevlerini genişletiriz.\n",
    "\n",
    "Ek olarak, __init__() yönteminin içindeki super() işlevini kullanırız. Bu, ebeveyn sınıfın __init__() yöntemini alt sınıf içinde çalıştırmamıza izin verir."
   ]
  },
  {
   "cell_type": "code",
   "execution_count": null,
   "id": "335e8e0b",
   "metadata": {},
   "outputs": [],
   "source": []
  }
 ],
 "metadata": {
  "kernelspec": {
   "display_name": "Python 3 (ipykernel)",
   "language": "python",
   "name": "python3"
  },
  "language_info": {
   "codemirror_mode": {
    "name": "ipython",
    "version": 3
   },
   "file_extension": ".py",
   "mimetype": "text/x-python",
   "name": "python",
   "nbconvert_exporter": "python",
   "pygments_lexer": "ipython3",
   "version": "3.9.12"
  }
 },
 "nbformat": 4,
 "nbformat_minor": 5
}
